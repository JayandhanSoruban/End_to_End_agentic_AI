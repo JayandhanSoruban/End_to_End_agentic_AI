{
 "cells": [
  {
   "cell_type": "code",
   "execution_count": 2,
   "id": "9b43887b",
   "metadata": {},
   "outputs": [],
   "source": [
    "from langchain_community.document_loaders import TextLoader\n",
    "docs = TextLoader(\"speech.txt\").load()"
   ]
  },
  {
   "cell_type": "code",
   "execution_count": 3,
   "id": "db933679",
   "metadata": {},
   "outputs": [],
   "source": [
    "# 2. Chunk documents\n",
    "from langchain_text_splitters import CharacterTextSplitter\n",
    "splitter = CharacterTextSplitter(chunk_size=500, chunk_overlap=50)\n",
    "chunks = splitter.split_documents(docs)"
   ]
  },
  {
   "cell_type": "code",
   "execution_count": 4,
   "id": "39ff2d90",
   "metadata": {},
   "outputs": [
    {
     "name": "stderr",
     "output_type": "stream",
     "text": [
      "C:\\Users\\jayan\\AppData\\Local\\Temp\\ipykernel_13896\\3690521581.py:3: LangChainDeprecationWarning: The class `HuggingFaceEmbeddings` was deprecated in LangChain 0.2.2 and will be removed in 1.0. An updated version of the class exists in the :class:`~langchain-huggingface package and should be used instead. To use it run `pip install -U :class:`~langchain-huggingface` and import as `from :class:`~langchain_huggingface import HuggingFaceEmbeddings``.\n",
      "  embeddings = HuggingFaceEmbeddings(model_name='all-MiniLM-L6-v2')\n",
      "d:\\End_to_End_agentic_AI\\venv\\Lib\\site-packages\\tqdm\\auto.py:21: TqdmWarning: IProgress not found. Please update jupyter and ipywidgets. See https://ipywidgets.readthedocs.io/en/stable/user_install.html\n",
      "  from .autonotebook import tqdm as notebook_tqdm\n"
     ]
    }
   ],
   "source": [
    "# 3. Choose an embedding model\n",
    "from langchain_community.embeddings import HuggingFaceEmbeddings  # or OpenAIEmbeddings, GeminiEmbeddings, etc.\n",
    "embeddings = HuggingFaceEmbeddings(model_name='all-MiniLM-L6-v2')"
   ]
  },
  {
   "cell_type": "code",
   "execution_count": 6,
   "id": "1eaf6f60",
   "metadata": {},
   "outputs": [],
   "source": [
    "# 4. Store in vector DB\n",
    "from langchain_community.vectorstores import FAISS\n",
    "vectorstore = FAISS.from_documents(chunks, embedding=embeddings)"
   ]
  },
  {
   "cell_type": "code",
   "execution_count": 7,
   "id": "e199ae65",
   "metadata": {},
   "outputs": [],
   "source": [
    "# 5. Save DB (optional)\n",
    "vectorstore.save_local(\"faiss_index\")"
   ]
  },
  {
   "cell_type": "code",
   "execution_count": 8,
   "id": "d2c19149",
   "metadata": {},
   "outputs": [
    {
     "name": "stdout",
     "output_type": "stream",
     "text": [
      "Occasions like the present do not occur in everybodyâ€™s and but rarely in anybodyâ€™s life.  \n",
      "I want you to know and feel that there is nothing but purest Ahimsa in all that I am saying and doing today.  \n",
      "The draft resolution of the Working Committee is based on Ahimsa; the contemplated struggle similarly has its roots in Ahimsa.  \n",
      "If, therefore, there is any among you who has lost faith in Ahimsa or is wearied of it, let him not vote for this resolution...\n",
      "Here is a mantra, a short one, that I give you. You may imprint it on your hearts and let every breath of yours give expression to it.  \n",
      "The mantra is: **â€˜Do or Die.â€™** We shall either free India or die in the attempt; we shall not live to see the perpetuation of our slavery.  \n",
      "Every true Congressman or woman will join the struggle with an inflexible determinationâ€¦\n"
     ]
    }
   ],
   "source": [
    "# 6. Perform similarity search\n",
    "query = \"Explain non-violence\"\n",
    "results = vectorstore.similarity_search(query, k=3)\n",
    "\n",
    "for r in results:\n",
    "    print(r.page_content)"
   ]
  },
  {
   "cell_type": "markdown",
   "id": "449e4ed2",
   "metadata": {},
   "source": [
    "LLM POWERED RETRIEVAL"
   ]
  },
  {
   "cell_type": "code",
   "execution_count": 9,
   "id": "cd269e03",
   "metadata": {},
   "outputs": [],
   "source": [
    "import os\n",
    "os.environ[\"OPENAI_API_KEY\"] = \"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\"\n",
    "os.environ[\"OPENAI_API_BASE\"] = \"https://openrouter.ai/api/v1\""
   ]
  },
  {
   "cell_type": "code",
   "execution_count": 10,
   "id": "2b8da38b",
   "metadata": {},
   "outputs": [],
   "source": [
    "from langchain_community.document_loaders import TextLoader\n",
    "from langchain_text_splitters import CharacterTextSplitter\n",
    "\n",
    "loader = TextLoader(\"speech.txt\")\n",
    "docs = loader.load()\n",
    "\n",
    "splitter = CharacterTextSplitter(chunk_size=500, chunk_overlap=50)\n",
    "chunks = splitter.split_documents(docs)\n"
   ]
  },
  {
   "cell_type": "code",
   "execution_count": 11,
   "id": "d7971c0c",
   "metadata": {},
   "outputs": [],
   "source": [
    "from langchain_community.embeddings import HuggingFaceEmbeddings\n",
    "from langchain_community.vectorstores import FAISS\n",
    "\n",
    "embeddings = HuggingFaceEmbeddings(model_name=\"all-MiniLM-L6-v2\")\n",
    "vectorstore = FAISS.from_documents(chunks, embedding=embeddings)\n"
   ]
  },
  {
   "cell_type": "code",
   "execution_count": 12,
   "id": "246aa61b",
   "metadata": {},
   "outputs": [],
   "source": [
    "retriever = vectorstore.as_retriever(search_type=\"similarity\", search_kwargs={\"k\": 3})"
   ]
  },
  {
   "cell_type": "code",
   "execution_count": 13,
   "id": "4923d04d",
   "metadata": {},
   "outputs": [
    {
     "name": "stderr",
     "output_type": "stream",
     "text": [
      "C:\\Users\\jayan\\AppData\\Local\\Temp\\ipykernel_13896\\728487311.py:4: LangChainDeprecationWarning: The class `ChatOpenAI` was deprecated in LangChain 0.0.10 and will be removed in 1.0. An updated version of the class exists in the :class:`~langchain-openai package and should be used instead. To use it run `pip install -U :class:`~langchain-openai` and import as `from :class:`~langchain_openai import ChatOpenAI``.\n",
      "  llm = ChatOpenAI(\n"
     ]
    },
    {
     "name": "stdout",
     "output_type": "stream",
     "text": [
      " The message of Gandhi's \"Do or Die\" speech is one of determination and commitment to the cause of Indian independence, with a strong emphasis on non-violence or Ahimsa. Gandhi urges every Congressman and woman to join the struggle for independence with an inflexible determination, stating that they will either free India or die in the attempt. He makes it clear that this struggle is based on Ahimsa, and that it is not a call for violence or hatred. Rather, it is a call for self-sacrifice and dedication to the cause of freedom, even in the face of great personal risk. Gandhi also makes it clear that those who have lost faith in Ahimsa or are wearied of it should not support this resolution, emphasizing the importance of non-violence to the struggle.\n"
     ]
    }
   ],
   "source": [
    "from langchain.chains import RetrievalQA\n",
    "from langchain.chat_models import ChatOpenAI  # uses OpenAI-compatible APIs\n",
    "\n",
    "llm = ChatOpenAI(\n",
    "    temperature=0,\n",
    "    model_name=\"mistralai/mixtral-8x7b-instruct\",  # or other OpenRouter model\n",
    ")\n",
    "\n",
    "rag_chain = RetrievalQA.from_chain_type(\n",
    "    llm=llm,\n",
    "    retriever=retriever,\n",
    "    return_source_documents=True\n",
    ")\n",
    "\n",
    "query = \"What is the message of Gandhi's Do or Die speech?\"\n",
    "result = rag_chain.invoke(query)\n",
    "\n",
    "print(result[\"result\"])\n"
   ]
  },
  {
   "cell_type": "code",
   "execution_count": null,
   "id": "452ab2b0",
   "metadata": {},
   "outputs": [],
   "source": []
  }
 ],
 "metadata": {
  "kernelspec": {
   "display_name": "venv",
   "language": "python",
   "name": "python3"
  },
  "language_info": {
   "codemirror_mode": {
    "name": "ipython",
    "version": 3
   },
   "file_extension": ".py",
   "mimetype": "text/x-python",
   "name": "python",
   "nbconvert_exporter": "python",
   "pygments_lexer": "ipython3",
   "version": "3.12.7"
  }
 },
 "nbformat": 4,
 "nbformat_minor": 5
}
