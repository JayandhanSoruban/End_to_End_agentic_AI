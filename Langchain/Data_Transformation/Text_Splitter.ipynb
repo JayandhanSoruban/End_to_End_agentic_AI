{
 "cells": [
  {
   "cell_type": "code",
   "execution_count": 1,
   "id": "2c224905",
   "metadata": {},
   "outputs": [],
   "source": [
    "from langchain_community.document_loaders import TextLoader"
   ]
  },
  {
   "cell_type": "code",
   "execution_count": 2,
   "id": "261050fe",
   "metadata": {},
   "outputs": [
    {
     "data": {
      "text/plain": [
       "[Document(metadata={'source': 'speech.txt'}, page_content='Occasions like the present do not occur in everybodyâ€™s and but rarely in anybodyâ€™s life.  \\nI want you to know and feel that there is nothing but purest Ahimsa in all that I am saying and doing today.  \\nThe draft resolution of the Working Committee is based on Ahimsa; the contemplated struggle similarly has its roots in Ahimsa.  \\nIf, therefore, there is any among you who has lost faith in Ahimsa or is wearied of it, let him not vote for this resolution...\\n\\nHere is a mantra, a short one, that I give you. You may imprint it on your hearts and let every breath of yours give expression to it.  \\nThe mantra is: **â€˜Do or Die.â€™** We shall either free India or die in the attempt; we shall not live to see the perpetuation of our slavery.  \\nEvery true Congressman or woman will join the struggle with an inflexible determinationâ€¦  \\n')]"
      ]
     },
     "execution_count": 2,
     "metadata": {},
     "output_type": "execute_result"
    }
   ],
   "source": [
    "loader = TextLoader(\"speech.txt\")\n",
    "text = loader.load()\n",
    "text"
   ]
  },
  {
   "cell_type": "code",
   "execution_count": 3,
   "id": "358c6277",
   "metadata": {},
   "outputs": [
    {
     "data": {
      "text/plain": [
       "[Document(metadata={'source': 'speech.txt'}, page_content='Occasions like the present do not occur in everybodyâ€™s and but rarely in anybodyâ€™s life.  \\nI want you to know and feel that there is nothing but purest Ahimsa in all that I am saying and doing today.  \\nThe draft resolution of the Working Committee is based on Ahimsa; the contemplated struggle similarly has its roots in Ahimsa.  \\nIf, therefore, there is any among you who has lost faith in Ahimsa or is wearied of it, let him not vote for this resolution...'),\n",
       " Document(metadata={'source': 'speech.txt'}, page_content='Here is a mantra, a short one, that I give you. You may imprint it on your hearts and let every breath of yours give expression to it.  \\nThe mantra is: **â€˜Do or Die.â€™** We shall either free India or die in the attempt; we shall not live to see the perpetuation of our slavery.  \\nEvery true Congressman or woman will join the struggle with an inflexible determinationâ€¦')]"
      ]
     },
     "execution_count": 3,
     "metadata": {},
     "output_type": "execute_result"
    }
   ],
   "source": [
    "from langchain_text_splitters import RecursiveCharacterTextSplitter\n",
    "\n",
    "text_splitter = RecursiveCharacterTextSplitter(chunk_size=500,chunk_overlap=50)\n",
    "final_documents = text_splitter.split_documents(text)\n",
    "final_documents"
   ]
  },
  {
   "cell_type": "code",
   "execution_count": 6,
   "id": "ddaf896d",
   "metadata": {},
   "outputs": [],
   "source": [
    "from langchain_community.document_loaders import PyPDFLoader"
   ]
  },
  {
   "cell_type": "code",
   "execution_count": 10,
   "id": "66e8aaad",
   "metadata": {},
   "outputs": [
    {
     "data": {
      "text/plain": [
       "[Document(metadata={'producer': 'Acrobat Distiller 6.0 (Windows)', 'creator': 'PScript5.dll Version 5.2', 'creationdate': '2009-06-25T12:53:49-07:00', 'moddate': '2009-06-25T12:53:49-07:00', 'title': 'Microsoft Word - 6-Julius Caesar biography.doc', 'author': 'rodonnell', 'source': 'Julius_Caesar_biography.pdf', 'total_pages': 2, 'page': 0, 'page_label': '1'}, page_content=\"Julius Caesar biography\\nCh 6 Foundations \\n \\nulius Caesar was a Roman general and politician \\nwho overthrew the Roman Republic and \\nestablished the rule of the emperors. Caesar used \\nthe problems and hardships of the period to \\ncreate his own supreme political and military power. \\nRoman Julius Caesar is regarded as one of the most \\npowerful and successful leaders in the history of the \\nworld. His life and his violent death have been \\nwidely celebrated in literature and film. \\n \\nCaesar's first important political \\nsuccess came in 63 B.C.E., when \\nhe was elected pontifex maximus, \\nthe chief religious office in Rome \\nthat carried important political \\npossibilities. Caesar was then \\nelected praetor (an elected Roman \\nofficial) for 62 B.C.E. and served \\nhis propraetorship in Spain. \\nCaesar was quick to take \\nadvantage of his power by waging \\na successful campaign against \\nsome native tribes in a Roman \\nprovince in western Europe. \\nMeanwhile, his political enemies \\naccused him of provoking, or \\nstarting, the war. \\n \\nFirst Triumvirate \\nIn 59 B.C.E. Caesar won an \\nelection to become consul, or an \\nofficial ruling over fore ign lands. The Senate, \\nimmediately moving to block his hopes of future \\npolitical power, assigned him to lands that offered \\nCaesar no possibilities for military glory. Caesar, who \\ndesired more glamorous political and military \\nopportunities, saw that he needed allies to overcome \\nhis opponents in the Senate. \\n \\nCaesar soon found the alliance that would become \\nknown as the First Triumvirate. He aligned himself \\nwith the Roman General Pompey (106–48 B.C.E.), \\nwho brought wealth and military might, and Crassus \\n(140–91 B.C.E.), a powerf ul Roman politician who \\nbrought important political connections. The alliance \\nwas further sealed in 58 B.C.E. with the marriage of \\nCaesar's only daughter, Julia, to Pompey. \\n \\n \\nRevolt in Gaul \\nCaesar was awarded the governorship of Gaul \\n(modern day France), a Roman province occupied by \\nseveral tribes. While Roman control in Gaul was \\nlimited, Rome did have political relations with tribes \\nbeyond the actual border of the province. Caesar \\nquickly took advantage of these connections and the \\nshifting power position in Gaul to extend the realm \\nof Roman control. \\n \\nCaesar decided to undertake an \\nexpedition against Britain, \\nwhose tribes maintained close \\ncontacts with Gaul. These \\nexpeditions in 55 and 54 B.C.E. \\ncreated great enthusiasm in \\nRome, as for the first time \\nRoman arms had advanced \\noverseas to conquer new \\npeoples. Caesar probably \\nthought that his main task of \\nconquest was complete. In 52 \\nB.C.E., however, Gaul rose in \\nwidespread rebellion against \\nCaesar under Vercingetorix, a \\nnobleman of a tribe in Gaul. This \\nrevolt greatly threatened \\nCaesar's power base. \\n \\nAt the same time, the political \\nsituation in Rome was equally \\nchaotic. The tribune (Roman official) had been \\nmurdered, and his death was followed by great \\ndisorder in Rome. Caesar had crossed the Alps to \\nwatch the changing conditions in Rome. When the \\nnews of revolt in Gaul reached him, he recrossed the \\nAlps and rallied his divided army. Caesar's forces \\nlost several battles to Vercingetorix but he made the \\nmistake of taking refuge in the fortress of Alesia, \\nhowever. Caesar used the best of Roman siege \\ntechniques and encircled the fortress to capture the \\nenemy. Soon Vercingetorix was forced to surrender. \\n \\nDissolving the Triumvirate \\nCaesar's long absence from Rome had partially \\nweakened his political power. At the same time \\nCaesar's conquests were well publicized. His \\nCommentaries, which desc ribed the campaigns, \\ncirculated among the reading public in Rome. \\nJ\"),\n",
       " Document(metadata={'producer': 'Acrobat Distiller 6.0 (Windows)', 'creator': 'PScript5.dll Version 5.2', 'creationdate': '2009-06-25T12:53:49-07:00', 'moddate': '2009-06-25T12:53:49-07:00', 'title': 'Microsoft Word - 6-Julius Caesar biography.doc', 'author': 'rodonnell', 'source': 'Julius_Caesar_biography.pdf', 'total_pages': 2, 'page': 1, 'page_label': '2'}, page_content=\"Julius Caesar biography\\nCh 6 Foundations \\n \\nCaesar sought to place his conquests in the best \\npossible light, and the Commentaries stressed the \\nimportance of defending the friends and allies of \\nRome against traditional Roman enemies. He had \\nmade vast additions to the Roman Empire (about \\n640,000 square miles) at the expense of peoples who \\nhad long been enemies of Rome. \\n \\nPompey, on the other hand, had remained in Rome \\nand strengthened his political position by appearing \\nas a leader in a time of chaos. Other tensions in the \\nalliance came with Julia's death in 54 B.C.E., which \\nremoved an important bond between the two men. \\nThe death of Crassus in 53 B.C.E. further weakened \\nthe relationship between Pompey and Caesar. \\n \\nCivil war \\nWhen Caesar returned to Rome in 50 B.C.E., the \\nSenate looked to put him on trial for acts he \\ncommitted while acting as consul. Caesar now had \\ntwo choices: he could bow to the will of the Senate \\nand be destroyed politically, or he could start a civil \\nwar. Caesar chose war. \\n \\nIt the beginning the greater power seemed to rest \\nwith Pompey and the Senate, as Pompey had \\npowerful resources with which to draw support \\nagainst Caesar. However, Caesar had at his \\ncommand a tough, loyal, and experienced army, as \\nwell as an extensive following in Italy. Most of all, \\nhe was fighting for his own interests alone and did \\nnot have to face the divisi ons of interest, opinion, \\nand leadership that plagued Pompey. \\n \\nPompey quickly decided to abandon Italy to Caesar \\nand fell back to the East. Caesar secured his position \\nin Italy and Gaul and then defeated Pompey at \\nPharsalus on Aug. 9, 48 B.C.E. Pompey fled to Egypt \\nand was killed by the young pharaoh Ptolemy (63–\\n47 B.C.E.). \\n \\nCaesar followed Pompey to Egypt and became \\ninvolved in the struggle for power in the house of \\nPtolemy, a family in Egypt that ruled for \\ngenerations. The main result of his time in Egypt \\nwas the affair that developed between Caesar and \\nCleopatra (51–30 B.C.E.), Ptolemy's sister and joint \\nruler of Egypt. She would la ter give birth to Caesar's \\nson, Caesarion. \\n \\nConsolidation of the empire \\nAlthough his rival was eliminated, much work \\nremained to make Caesar's position secure. He \\nadopted a policy of special clemency, or mercy, \\ntoward his former enemies and rewarded political \\nopponents with public office. For himself he adopted \\nthe old Roman position of dictator, a ruler with \\nabsolute power. \\n \\nThere has been much debate about what political \\nrole Caesar planned for himself. He certainly thought \\nthe old government was weak and desired to replace \\ni t  w i t h  s o m e  f o r m  o f  r u l e  b y  a  s i n g l e  l e a d e r .  J u s t  \\nbefore his death, Caesar was appointed dictator for \\nlife. About the same time, he began issuing coins \\nwith his portrait on them, something never before \\npracticed in Rome up to that time. Caesar was \\nplanning major improvements to transform the \\ncapital of the empire he commanded. New colonial \\nfoundations were under wa y, and he reordered the \\ndefective Roman calendar. \\n \\nDeath and legacy \\nIn Rome, dissatisfaction was growing in the Senate \\nover the increasingly permanent nature of Caesar's \\nrule. A conspiracy was formed to remove Caesar and \\nrestore the government to the Senate. The \\nconspirators hoped that, with Caesar's death, \\ngovernment would be restored to its old republican \\nform and all of the factors that had produced Caesar \\nwould disappear. The cons piracy progressed with \\nCaesar either ignorant of it or not recognizing the \\nwarning signs. On the Ides of March (March 15), 44 \\nB.C.E., he was stabbed to death in the Senate house \\nof Pompey by a group of men that included old \\nfriends and allies. \\n \\nWith Caesar's murder, Rome plunged into thirteen \\nyears of civil war. Caesar remained for some a \\nsymbol of an over-dominant leader, and for others \\nthe founder of the Roman Empire whose ghost has \\nhaunted Europe ever since. For all, he is a figure of \\ngenius and courage equaled by few in history.\")]"
      ]
     },
     "execution_count": 10,
     "metadata": {},
     "output_type": "execute_result"
    }
   ],
   "source": [
    "pdf = PyPDFLoader(\"Julius_Caesar_biography.pdf\")\n",
    "doc = pdf.load()\n",
    "doc"
   ]
  },
  {
   "cell_type": "code",
   "execution_count": 11,
   "id": "ba0fdd9c",
   "metadata": {},
   "outputs": [],
   "source": [
    "from langchain_text_splitters import RecursiveCharacterTextSplitter\n",
    "\n",
    "texts_splitter = RecursiveCharacterTextSplitter(chunk_size=50,chunk_overlap=0)\n",
    "documents = text_splitter.split_documents(doc)"
   ]
  },
  {
   "cell_type": "code",
   "execution_count": 12,
   "id": "61fac67b",
   "metadata": {},
   "outputs": [
    {
     "data": {
      "text/plain": [
       "list"
      ]
     },
     "execution_count": 12,
     "metadata": {},
     "output_type": "execute_result"
    }
   ],
   "source": [
    "type(documents)"
   ]
  },
  {
   "cell_type": "code",
   "execution_count": 13,
   "id": "cdd38402",
   "metadata": {},
   "outputs": [
    {
     "data": {
      "text/plain": [
       "Document(metadata={'producer': 'Acrobat Distiller 6.0 (Windows)', 'creator': 'PScript5.dll Version 5.2', 'creationdate': '2009-06-25T12:53:49-07:00', 'moddate': '2009-06-25T12:53:49-07:00', 'title': 'Microsoft Word - 6-Julius Caesar biography.doc', 'author': 'rodonnell', 'source': 'Julius_Caesar_biography.pdf', 'total_pages': 2, 'page': 0, 'page_label': '1'}, page_content='Julius Caesar biography\\nCh 6 Foundations \\n \\nulius Caesar was a Roman general and politician \\nwho overthrew the Roman Republic and \\nestablished the rule of the emperors. Caesar used \\nthe problems and hardships of the period to \\ncreate his own supreme political and military power. \\nRoman Julius Caesar is regarded as one of the most \\npowerful and successful leaders in the history of the \\nworld. His life and his violent death have been \\nwidely celebrated in literature and film.')"
      ]
     },
     "execution_count": 13,
     "metadata": {},
     "output_type": "execute_result"
    }
   ],
   "source": [
    "documents[0]"
   ]
  },
  {
   "cell_type": "code",
   "execution_count": 14,
   "id": "c8b2fd91",
   "metadata": {},
   "outputs": [
    {
     "data": {
      "text/plain": [
       "Document(metadata={'producer': 'Acrobat Distiller 6.0 (Windows)', 'creator': 'PScript5.dll Version 5.2', 'creationdate': '2009-06-25T12:53:49-07:00', 'moddate': '2009-06-25T12:53:49-07:00', 'title': 'Microsoft Word - 6-Julius Caesar biography.doc', 'author': 'rodonnell', 'source': 'Julius_Caesar_biography.pdf', 'total_pages': 2, 'page': 0, 'page_label': '1'}, page_content=\"widely celebrated in literature and film. \\n \\nCaesar's first important political \\nsuccess came in 63 B.C.E., when \\nhe was elected pontifex maximus, \\nthe chief religious office in Rome \\nthat carried important political \\npossibilities. Caesar was then \\nelected praetor (an elected Roman \\nofficial) for 62 B.C.E. and served \\nhis propraetorship in Spain. \\nCaesar was quick to take \\nadvantage of his power by waging \\na successful campaign against \\nsome native tribes in a Roman\")"
      ]
     },
     "execution_count": 14,
     "metadata": {},
     "output_type": "execute_result"
    }
   ],
   "source": [
    "documents[1]"
   ]
  },
  {
   "cell_type": "code",
   "execution_count": 15,
   "id": "489e92aa",
   "metadata": {},
   "outputs": [
    {
     "data": {
      "text/plain": [
       "Document(metadata={'producer': 'Acrobat Distiller 6.0 (Windows)', 'creator': 'PScript5.dll Version 5.2', 'creationdate': '2009-06-25T12:53:49-07:00', 'moddate': '2009-06-25T12:53:49-07:00', 'title': 'Microsoft Word - 6-Julius Caesar biography.doc', 'author': 'rodonnell', 'source': 'Julius_Caesar_biography.pdf', 'total_pages': 2, 'page': 0, 'page_label': '1'}, page_content='some native tribes in a Roman \\nprovince in western Europe. \\nMeanwhile, his political enemies \\naccused him of provoking, or \\nstarting, the war. \\n \\nFirst Triumvirate \\nIn 59 B.C.E. Caesar won an \\nelection to become consul, or an \\nofficial ruling over fore ign lands. The Senate, \\nimmediately moving to block his hopes of future \\npolitical power, assigned him to lands that offered \\nCaesar no possibilities for military glory. Caesar, who \\ndesired more glamorous political and military')"
      ]
     },
     "execution_count": 15,
     "metadata": {},
     "output_type": "execute_result"
    }
   ],
   "source": [
    "documents[2]"
   ]
  },
  {
   "cell_type": "code",
   "execution_count": 16,
   "id": "2e0a8510",
   "metadata": {},
   "outputs": [
    {
     "name": "stdout",
     "output_type": "stream",
     "text": [
      "[Document(metadata={}, page_content='Occasions like the'), Document(metadata={}, page_content='present do not'), Document(metadata={}, page_content='occur in'), Document(metadata={}, page_content='everybodyâ€™s and'), Document(metadata={}, page_content='but rarely in'), Document(metadata={}, page_content='anybodyâ€™s life.'), Document(metadata={}, page_content='I want you to'), Document(metadata={}, page_content='know and feel that'), Document(metadata={}, page_content='there is nothing'), Document(metadata={}, page_content='but purest Ahimsa'), Document(metadata={}, page_content='in all that I am'), Document(metadata={}, page_content='saying and doing'), Document(metadata={}, page_content='today.  \\nThe draft'), Document(metadata={}, page_content='resolution of the'), Document(metadata={}, page_content='Working Committee'), Document(metadata={}, page_content='is based on Ahimsa;'), Document(metadata={}, page_content='the contemplated'), Document(metadata={}, page_content='struggle similarly'), Document(metadata={}, page_content='has its roots in'), Document(metadata={}, page_content='Ahimsa.  \\nIf,'), Document(metadata={}, page_content='therefore, there is'), Document(metadata={}, page_content='any among you who'), Document(metadata={}, page_content='has lost faith in'), Document(metadata={}, page_content='Ahimsa or is'), Document(metadata={}, page_content='wearied of it, let'), Document(metadata={}, page_content='him not vote for'), Document(metadata={}, page_content='this'), Document(metadata={}, page_content='resolution...\\n\\nHere'), Document(metadata={}, page_content='is a mantra, a'), Document(metadata={}, page_content='a short one, that I'), Document(metadata={}, page_content='I give you. You may'), Document(metadata={}, page_content='imprint it on your'), Document(metadata={}, page_content='hearts and let'), Document(metadata={}, page_content='every breath of'), Document(metadata={}, page_content='yours give'), Document(metadata={}, page_content='expression to it.'), Document(metadata={}, page_content='The mantra is:'), Document(metadata={}, page_content='**â€˜Do or'), Document(metadata={}, page_content='Die.â€™** We shall'), Document(metadata={}, page_content='either free India'), Document(metadata={}, page_content='or die in the'), Document(metadata={}, page_content='attempt; we shall'), Document(metadata={}, page_content='not live to see the'), Document(metadata={}, page_content='perpetuation of our'), Document(metadata={}, page_content='slavery.  \\nEvery'), Document(metadata={}, page_content='true Congressman or'), Document(metadata={}, page_content='woman will join the'), Document(metadata={}, page_content='struggle with an'), Document(metadata={}, page_content='inflexible'), Document(metadata={}, page_content='determinationâ€¦')]\n"
     ]
    }
   ],
   "source": [
    "speech = \"\"\n",
    "with open(\"speech.txt\") as f:\n",
    "    speech = f.read()\n",
    "\n",
    "text_splitter=RecursiveCharacterTextSplitter(chunk_size=20,chunk_overlap=2,separators=[\" \", \"\"])\n",
    "text = text_splitter.create_documents([speech])\n",
    "print(text)"
   ]
  },
  {
   "cell_type": "markdown",
   "id": "c018abd3",
   "metadata": {},
   "source": [
    "CHARACTER TEXT SPLITTER"
   ]
  },
  {
   "cell_type": "code",
   "execution_count": 17,
   "id": "34c0be0b",
   "metadata": {},
   "outputs": [
    {
     "data": {
      "text/plain": [
       "[Document(metadata={'source': 'speech.txt'}, page_content='Occasions like the present do not occur in everybodyâ€™s and but rarely in anybodyâ€™s life.  \\nI want you to know and feel that there is nothing but purest Ahimsa in all that I am saying and doing today.  \\nThe draft resolution of the Working Committee is based on Ahimsa; the contemplated struggle similarly has its roots in Ahimsa.  \\nIf, therefore, there is any among you who has lost faith in Ahimsa or is wearied of it, let him not vote for this resolution...\\n\\nHere is a mantra, a short one, that I give you. You may imprint it on your hearts and let every breath of yours give expression to it.  \\nThe mantra is: **â€˜Do or Die.â€™** We shall either free India or die in the attempt; we shall not live to see the perpetuation of our slavery.  \\nEvery true Congressman or woman will join the struggle with an inflexible determinationâ€¦  \\n')]"
      ]
     },
     "execution_count": 17,
     "metadata": {},
     "output_type": "execute_result"
    }
   ],
   "source": [
    "from langchain_community.document_loaders import TextLoader\n",
    "\n",
    "loader=TextLoader(\"speech.txt\")\n",
    "docums=loader.load()\n",
    "docums"
   ]
  },
  {
   "cell_type": "code",
   "execution_count": 19,
   "id": "8ca8176f",
   "metadata": {},
   "outputs": [
    {
     "name": "stderr",
     "output_type": "stream",
     "text": [
      "Created a chunk of size 462, which is longer than the specified 100\n"
     ]
    },
    {
     "data": {
      "text/plain": [
       "[Document(metadata={'source': 'speech.txt'}, page_content='Occasions like the present do not occur in everybodyâ€™s and but rarely in anybodyâ€™s life.  \\nI want you to know and feel that there is nothing but purest Ahimsa in all that I am saying and doing today.  \\nThe draft resolution of the Working Committee is based on Ahimsa; the contemplated struggle similarly has its roots in Ahimsa.  \\nIf, therefore, there is any among you who has lost faith in Ahimsa or is wearied of it, let him not vote for this resolution...'),\n",
       " Document(metadata={'source': 'speech.txt'}, page_content='Here is a mantra, a short one, that I give you. You may imprint it on your hearts and let every breath of yours give expression to it.  \\nThe mantra is: **â€˜Do or Die.â€™** We shall either free India or die in the attempt; we shall not live to see the perpetuation of our slavery.  \\nEvery true Congressman or woman will join the struggle with an inflexible determinationâ€¦')]"
      ]
     },
     "execution_count": 19,
     "metadata": {},
     "output_type": "execute_result"
    }
   ],
   "source": [
    "from langchain_text_splitters import CharacterTextSplitter\n",
    "text_splitter=CharacterTextSplitter(separator=\"\\n\\n\",chunk_size=100,chunk_overlap=20)\n",
    "text_splitter.split_documents(docums)"
   ]
  },
  {
   "cell_type": "code",
   "execution_count": null,
   "id": "f0f0288d",
   "metadata": {},
   "outputs": [],
   "source": []
  }
 ],
 "metadata": {
  "kernelspec": {
   "display_name": "venv",
   "language": "python",
   "name": "python3"
  },
  "language_info": {
   "codemirror_mode": {
    "name": "ipython",
    "version": 3
   },
   "file_extension": ".py",
   "mimetype": "text/x-python",
   "name": "python",
   "nbconvert_exporter": "python",
   "pygments_lexer": "ipython3",
   "version": "3.12.7"
  }
 },
 "nbformat": 4,
 "nbformat_minor": 5
}
