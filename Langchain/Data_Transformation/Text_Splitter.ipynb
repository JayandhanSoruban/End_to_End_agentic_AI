{
 "cells": [
  {
   "cell_type": "code",
   "execution_count": 1,
   "id": "2c224905",
   "metadata": {},
   "outputs": [],
   "source": [
    "from langchain_community.document_loaders import TextLoader"
   ]
  },
  {
   "cell_type": "code",
   "execution_count": 2,
   "id": "261050fe",
   "metadata": {},
   "outputs": [
    {
     "data": {
      "text/plain": [
       "[Document(metadata={'source': 'speech.txt'}, page_content='Occasions like the present do not occur in everybodyâ€™s and but rarely in anybodyâ€™s life.  \\nI want you to know and feel that there is nothing but purest Ahimsa in all that I am saying and doing today.  \\nThe draft resolution of the Working Committee is based on Ahimsa; the contemplated struggle similarly has its roots in Ahimsa.  \\nIf, therefore, there is any among you who has lost faith in Ahimsa or is wearied of it, let him not vote for this resolution...\\n\\nHere is a mantra, a short one, that I give you. You may imprint it on your hearts and let every breath of yours give expression to it.  \\nThe mantra is: **â€˜Do or Die.â€™** We shall either free India or die in the attempt; we shall not live to see the perpetuation of our slavery.  \\nEvery true Congressman or woman will join the struggle with an inflexible determinationâ€¦  \\n')]"
      ]
     },
     "execution_count": 2,
     "metadata": {},
     "output_type": "execute_result"
    }
   ],
   "source": [
    "loader = TextLoader(\"speech.txt\")\n",
    "text = loader.load()\n",
    "text"
   ]
  },
  {
   "cell_type": "code",
   "execution_count": 3,
   "id": "358c6277",
   "metadata": {},
   "outputs": [
    {
     "data": {
      "text/plain": [
       "[Document(metadata={'source': 'speech.txt'}, page_content='Occasions like the present do not occur in everybodyâ€™s and but rarely in anybodyâ€™s life.  \\nI want you to know and feel that there is nothing but purest Ahimsa in all that I am saying and doing today.  \\nThe draft resolution of the Working Committee is based on Ahimsa; the contemplated struggle similarly has its roots in Ahimsa.  \\nIf, therefore, there is any among you who has lost faith in Ahimsa or is wearied of it, let him not vote for this resolution...'),\n",
       " Document(metadata={'source': 'speech.txt'}, page_content='Here is a mantra, a short one, that I give you. You may imprint it on your hearts and let every breath of yours give expression to it.  \\nThe mantra is: **â€˜Do or Die.â€™** We shall either free India or die in the attempt; we shall not live to see the perpetuation of our slavery.  \\nEvery true Congressman or woman will join the struggle with an inflexible determinationâ€¦')]"
      ]
     },
     "execution_count": 3,
     "metadata": {},
     "output_type": "execute_result"
    }
   ],
   "source": [
    "from langchain_text_splitters import RecursiveCharacterTextSplitter\n",
    "\n",
    "text_splitter = RecursiveCharacterTextSplitter(chunk_size=500,chunk_overlap=50)\n",
    "final_documents = text_splitter.split_documents(text)\n",
    "final_documents"
   ]
  },
  {
   "cell_type": "code",
   "execution_count": 6,
   "id": "ddaf896d",
   "metadata": {},
   "outputs": [],
   "source": [
    "from langchain_community.document_loaders import PyPDFLoader"
   ]
  },
  {
   "cell_type": "code",
   "execution_count": 9,
   "id": "66e8aaad",
   "metadata": {},
   "outputs": [
    {
     "ename": "ImportError",
     "evalue": "`pypdf` package not found, please install it with `pip install pypdf`",
     "output_type": "error",
     "traceback": [
      "\u001b[31m---------------------------------------------------------------------------\u001b[39m",
      "\u001b[31mModuleNotFoundError\u001b[39m                       Traceback (most recent call last)",
      "\u001b[36mFile \u001b[39m\u001b[32md:\\End_to_End_agentic_AI\\venv\\Lib\\site-packages\\langchain_community\\document_loaders\\parsers\\pdf.py:359\u001b[39m, in \u001b[36mPyPDFParser.lazy_parse\u001b[39m\u001b[34m(self, blob)\u001b[39m\n\u001b[32m    358\u001b[39m \u001b[38;5;28;01mtry\u001b[39;00m:\n\u001b[32m--> \u001b[39m\u001b[32m359\u001b[39m     \u001b[38;5;28;01mimport\u001b[39;00m\u001b[38;5;250m \u001b[39m\u001b[34;01mpypdf\u001b[39;00m\n\u001b[32m    360\u001b[39m \u001b[38;5;28;01mexcept\u001b[39;00m \u001b[38;5;167;01mImportError\u001b[39;00m:\n",
      "\u001b[31mModuleNotFoundError\u001b[39m: No module named 'pypdf'",
      "\nDuring handling of the above exception, another exception occurred:\n",
      "\u001b[31mImportError\u001b[39m                               Traceback (most recent call last)",
      "\u001b[36mCell\u001b[39m\u001b[36m \u001b[39m\u001b[32mIn[9]\u001b[39m\u001b[32m, line 2\u001b[39m\n\u001b[32m      1\u001b[39m pdf = PyPDFLoader(\u001b[33m\"\u001b[39m\u001b[33mJulius_Caesar_biography.pdf\u001b[39m\u001b[33m\"\u001b[39m)\n\u001b[32m----> \u001b[39m\u001b[32m2\u001b[39m doc = \u001b[43mpdf\u001b[49m\u001b[43m.\u001b[49m\u001b[43mload\u001b[49m\u001b[43m(\u001b[49m\u001b[43m)\u001b[49m\n\u001b[32m      3\u001b[39m doc\n",
      "\u001b[36mFile \u001b[39m\u001b[32md:\\End_to_End_agentic_AI\\venv\\Lib\\site-packages\\langchain_core\\document_loaders\\base.py:32\u001b[39m, in \u001b[36mBaseLoader.load\u001b[39m\u001b[34m(self)\u001b[39m\n\u001b[32m     30\u001b[39m \u001b[38;5;28;01mdef\u001b[39;00m\u001b[38;5;250m \u001b[39m\u001b[34mload\u001b[39m(\u001b[38;5;28mself\u001b[39m) -> \u001b[38;5;28mlist\u001b[39m[Document]:\n\u001b[32m     31\u001b[39m \u001b[38;5;250m    \u001b[39m\u001b[33;03m\"\"\"Load data into Document objects.\"\"\"\u001b[39;00m\n\u001b[32m---> \u001b[39m\u001b[32m32\u001b[39m     \u001b[38;5;28;01mreturn\u001b[39;00m \u001b[38;5;28;43mlist\u001b[39;49m\u001b[43m(\u001b[49m\u001b[38;5;28;43mself\u001b[39;49m\u001b[43m.\u001b[49m\u001b[43mlazy_load\u001b[49m\u001b[43m(\u001b[49m\u001b[43m)\u001b[49m\u001b[43m)\u001b[49m\n",
      "\u001b[36mFile \u001b[39m\u001b[32md:\\End_to_End_agentic_AI\\venv\\Lib\\site-packages\\langchain_community\\document_loaders\\pdf.py:305\u001b[39m, in \u001b[36mPyPDFLoader.lazy_load\u001b[39m\u001b[34m(self)\u001b[39m\n\u001b[32m    303\u001b[39m \u001b[38;5;28;01melse\u001b[39;00m:\n\u001b[32m    304\u001b[39m     blob = Blob.from_path(\u001b[38;5;28mself\u001b[39m.file_path)\n\u001b[32m--> \u001b[39m\u001b[32m305\u001b[39m \u001b[38;5;28;01myield from\u001b[39;00m \u001b[38;5;28mself\u001b[39m.parser.lazy_parse(blob)\n",
      "\u001b[36mFile \u001b[39m\u001b[32md:\\End_to_End_agentic_AI\\venv\\Lib\\site-packages\\langchain_community\\document_loaders\\parsers\\pdf.py:361\u001b[39m, in \u001b[36mPyPDFParser.lazy_parse\u001b[39m\u001b[34m(self, blob)\u001b[39m\n\u001b[32m    359\u001b[39m     \u001b[38;5;28;01mimport\u001b[39;00m\u001b[38;5;250m \u001b[39m\u001b[34;01mpypdf\u001b[39;00m\n\u001b[32m    360\u001b[39m \u001b[38;5;28;01mexcept\u001b[39;00m \u001b[38;5;167;01mImportError\u001b[39;00m:\n\u001b[32m--> \u001b[39m\u001b[32m361\u001b[39m     \u001b[38;5;28;01mraise\u001b[39;00m \u001b[38;5;167;01mImportError\u001b[39;00m(\n\u001b[32m    362\u001b[39m         \u001b[33m\"\u001b[39m\u001b[33m`pypdf` package not found, please install it with `pip install pypdf`\u001b[39m\u001b[33m\"\u001b[39m\n\u001b[32m    363\u001b[39m     )\n\u001b[32m    365\u001b[39m \u001b[38;5;28;01mdef\u001b[39;00m\u001b[38;5;250m \u001b[39m\u001b[34m_extract_text_from_page\u001b[39m(page: pypdf.PageObject) -> \u001b[38;5;28mstr\u001b[39m:\n\u001b[32m    366\u001b[39m \u001b[38;5;250m    \u001b[39m\u001b[33;03m\"\"\"\u001b[39;00m\n\u001b[32m    367\u001b[39m \u001b[33;03m    Extract text from image given the version of pypdf.\u001b[39;00m\n\u001b[32m    368\u001b[39m \n\u001b[32m   (...)\u001b[39m\u001b[32m    373\u001b[39m \u001b[33;03m        str: The extracted text.\u001b[39;00m\n\u001b[32m    374\u001b[39m \u001b[33;03m    \"\"\"\u001b[39;00m\n",
      "\u001b[31mImportError\u001b[39m: `pypdf` package not found, please install it with `pip install pypdf`"
     ]
    }
   ],
   "source": [
    "pdf = PyPDFLoader(\"Julius_Caesar_biography.pdf\")\n",
    "doc = pdf.load()\n",
    "doc"
   ]
  },
  {
   "cell_type": "code",
   "execution_count": 8,
   "id": "ba0fdd9c",
   "metadata": {},
   "outputs": [
    {
     "ename": "NameError",
     "evalue": "name 'doc' is not defined",
     "output_type": "error",
     "traceback": [
      "\u001b[31m---------------------------------------------------------------------------\u001b[39m",
      "\u001b[31mNameError\u001b[39m                                 Traceback (most recent call last)",
      "\u001b[36mCell\u001b[39m\u001b[36m \u001b[39m\u001b[32mIn[8]\u001b[39m\u001b[32m, line 4\u001b[39m\n\u001b[32m      1\u001b[39m \u001b[38;5;28;01mfrom\u001b[39;00m\u001b[38;5;250m \u001b[39m\u001b[34;01mlangchain_text_splitters\u001b[39;00m\u001b[38;5;250m \u001b[39m\u001b[38;5;28;01mimport\u001b[39;00m RecursiveCharacterTextSplitter\n\u001b[32m      3\u001b[39m texts_splitter = RecursiveCharacterTextSplitter(chunk_size=\u001b[32m50\u001b[39m,chunk_overlap=\u001b[32m0\u001b[39m)\n\u001b[32m----> \u001b[39m\u001b[32m4\u001b[39m documents = text_splitter.split_documents(\u001b[43mdoc\u001b[49m)\n",
      "\u001b[31mNameError\u001b[39m: name 'doc' is not defined"
     ]
    }
   ],
   "source": [
    "from langchain_text_splitters import RecursiveCharacterTextSplitter\n",
    "\n",
    "texts_splitter = RecursiveCharacterTextSplitter(chunk_size=50,chunk_overlap=0)\n",
    "documents = text_splitter.split_documents(doc)"
   ]
  },
  {
   "cell_type": "code",
   "execution_count": null,
   "id": "61fac67b",
   "metadata": {},
   "outputs": [
    {
     "data": {
      "text/plain": [
       "list"
      ]
     },
     "execution_count": 30,
     "metadata": {},
     "output_type": "execute_result"
    }
   ],
   "source": [
    "type(documents)"
   ]
  },
  {
   "cell_type": "code",
   "execution_count": null,
   "id": "cdd38402",
   "metadata": {},
   "outputs": [
    {
     "data": {
      "text/plain": [
       "Document(metadata={'producer': 'Acrobat Distiller 6.0 (Windows)', 'creator': 'PScript5.dll Version 5.2', 'creationdate': '2009-06-25T12:53:49-07:00', 'moddate': '2009-06-25T12:53:49-07:00', 'title': 'Microsoft Word - 6-Julius Caesar biography.doc', 'author': 'rodonnell', 'source': 'Julius_Caesar_biography.pdf', 'total_pages': 2, 'page': 0, 'page_label': '1'}, page_content='Julius Caesar biography\\nCh 6 Foundations \\n \\nulius Caesar was a Roman general and politician \\nwho overthrew the Roman Republic and \\nestablished the rule of the emperors. Caesar used \\nthe problems and hardships of the period to \\ncreate his own supreme political and military power. \\nRoman Julius Caesar is regarded as one of the most \\npowerful and successful leaders in the history of the \\nworld. His life and his violent death have been \\nwidely celebrated in literature and film.')"
      ]
     },
     "execution_count": 31,
     "metadata": {},
     "output_type": "execute_result"
    }
   ],
   "source": [
    "documents[0]"
   ]
  },
  {
   "cell_type": "code",
   "execution_count": null,
   "id": "c8b2fd91",
   "metadata": {},
   "outputs": [
    {
     "data": {
      "text/plain": [
       "Document(metadata={'producer': 'Acrobat Distiller 6.0 (Windows)', 'creator': 'PScript5.dll Version 5.2', 'creationdate': '2009-06-25T12:53:49-07:00', 'moddate': '2009-06-25T12:53:49-07:00', 'title': 'Microsoft Word - 6-Julius Caesar biography.doc', 'author': 'rodonnell', 'source': 'Julius_Caesar_biography.pdf', 'total_pages': 2, 'page': 0, 'page_label': '1'}, page_content=\"widely celebrated in literature and film. \\n \\nCaesar's first important political \\nsuccess came in 63 B.C.E., when \\nhe was elected pontifex maximus, \\nthe chief religious office in Rome \\nthat carried important political \\npossibilities. Caesar was then \\nelected praetor (an elected Roman \\nofficial) for 62 B.C.E. and served \\nhis propraetorship in Spain. \\nCaesar was quick to take \\nadvantage of his power by waging \\na successful campaign against \\nsome native tribes in a Roman\")"
      ]
     },
     "execution_count": 32,
     "metadata": {},
     "output_type": "execute_result"
    }
   ],
   "source": [
    "documents[1]"
   ]
  },
  {
   "cell_type": "code",
   "execution_count": null,
   "id": "489e92aa",
   "metadata": {},
   "outputs": [
    {
     "data": {
      "text/plain": [
       "Document(metadata={'producer': 'Acrobat Distiller 5.0 (Windows)', 'creator': 'PyPDF', 'creationdate': '2003-01-21T09:18:38+00:00', 'moddate': '2010-05-23T23:21:48+08:00', 'source': '02. The 7 Habits of Highly Effective People (1).pdf', 'total_pages': 172, 'page': 1, 'page_label': '2'}, page_content=\"I've never known any teacher or mentor on im proving personal effectiveness to generate such an \\noverwhelmingly positive reaction....  This book captures beautifull y Stephen's philosophy of principles.  \\nI think anyone reading it will quickly understand th e enormous reaction I and others have had to Dr. \\nCovey's teachings. \\n   -- John Pepper, President, Procter and Gamble \\n \\n   Stephen Covey is an American Socrates, openin g your mind to the 'permanent things' -- values,\")"
      ]
     },
     "execution_count": 24,
     "metadata": {},
     "output_type": "execute_result"
    }
   ],
   "source": [
    "documents[2]"
   ]
  },
  {
   "cell_type": "code",
   "execution_count": null,
   "id": "2e0a8510",
   "metadata": {},
   "outputs": [
    {
     "name": "stdout",
     "output_type": "stream",
     "text": [
      "[Document(metadata={}, page_content='Occasions like the'), Document(metadata={}, page_content='present do not'), Document(metadata={}, page_content='occur in'), Document(metadata={}, page_content='everybodyâ€™s and'), Document(metadata={}, page_content='but rarely in'), Document(metadata={}, page_content='anybodyâ€™s life.'), Document(metadata={}, page_content='I want you to'), Document(metadata={}, page_content='know and feel that'), Document(metadata={}, page_content='there is nothing'), Document(metadata={}, page_content='but purest Ahimsa'), Document(metadata={}, page_content='in all that I am'), Document(metadata={}, page_content='saying and doing'), Document(metadata={}, page_content='today.  \\nThe draft'), Document(metadata={}, page_content='resolution of the'), Document(metadata={}, page_content='Working Committee'), Document(metadata={}, page_content='is based on Ahimsa;'), Document(metadata={}, page_content='the contemplated'), Document(metadata={}, page_content='struggle similarly'), Document(metadata={}, page_content='has its roots in'), Document(metadata={}, page_content='Ahimsa.  \\nIf,'), Document(metadata={}, page_content='therefore, there is'), Document(metadata={}, page_content='any among you who'), Document(metadata={}, page_content='has lost faith in'), Document(metadata={}, page_content='Ahimsa or is'), Document(metadata={}, page_content='wearied of it, let'), Document(metadata={}, page_content='him not vote for'), Document(metadata={}, page_content='this'), Document(metadata={}, page_content='resolution...\\n\\nHere'), Document(metadata={}, page_content='is a mantra, a'), Document(metadata={}, page_content='a short one, that I'), Document(metadata={}, page_content='I give you. You may'), Document(metadata={}, page_content='imprint it on your'), Document(metadata={}, page_content='hearts and let'), Document(metadata={}, page_content='every breath of'), Document(metadata={}, page_content='yours give'), Document(metadata={}, page_content='expression to it.'), Document(metadata={}, page_content='The mantra is:'), Document(metadata={}, page_content='**â€˜Do or'), Document(metadata={}, page_content='Die.â€™** We shall'), Document(metadata={}, page_content='either free India'), Document(metadata={}, page_content='or die in the'), Document(metadata={}, page_content='attempt; we shall'), Document(metadata={}, page_content='not live to see the'), Document(metadata={}, page_content='perpetuation of our'), Document(metadata={}, page_content='slavery.  \\nEvery'), Document(metadata={}, page_content='true Congressman or'), Document(metadata={}, page_content='woman will join the'), Document(metadata={}, page_content='struggle with an'), Document(metadata={}, page_content='inflexible'), Document(metadata={}, page_content='determinationâ€¦')]\n"
     ]
    }
   ],
   "source": [
    "speech = \"\"\n",
    "with open(\"speech.txt\") as f:\n",
    "    speech = f.read()\n",
    "\n",
    "text_splitter=RecursiveCharacterTextSplitter(chunk_size=20,chunk_overlap=2,separators=[\" \", \"\"])\n",
    "text = text_splitter.create_documents([speech])\n",
    "print(text)"
   ]
  },
  {
   "cell_type": "markdown",
   "id": "c018abd3",
   "metadata": {},
   "source": [
    "CHARACTER TEXT SPLITTER"
   ]
  },
  {
   "cell_type": "code",
   "execution_count": null,
   "id": "34c0be0b",
   "metadata": {},
   "outputs": [
    {
     "ename": "ImportError",
     "evalue": "module ''langchain_core._api'.'deprecation'' not found",
     "output_type": "error",
     "traceback": [
      "\u001b[31m---------------------------------------------------------------------------\u001b[39m",
      "\u001b[31mImportError\u001b[39m                               Traceback (most recent call last)",
      "\u001b[36mCell\u001b[39m\u001b[36m \u001b[39m\u001b[32mIn[1]\u001b[39m\u001b[32m, line 1\u001b[39m\n\u001b[32m----> \u001b[39m\u001b[32m1\u001b[39m \u001b[38;5;28;01mfrom\u001b[39;00m\u001b[38;5;250m \u001b[39m\u001b[34;01mlangchain_community\u001b[39;00m\u001b[34;01m.\u001b[39;00m\u001b[34;01mdocument_loaders\u001b[39;00m\u001b[38;5;250m \u001b[39m\u001b[38;5;28;01mimport\u001b[39;00m TextLoader\n\u001b[32m      3\u001b[39m loader=TextLoader(\u001b[33m\"\u001b[39m\u001b[33mspeech.txt\u001b[39m\u001b[33m\"\u001b[39m)\n\u001b[32m      4\u001b[39m docums=loader.load()\n",
      "\u001b[36mFile \u001b[39m\u001b[32md:\\End_to_End_agentic_AI\\venv\\Lib\\site-packages\\langchain_community\\document_loaders\\__init__.py:740\u001b[39m, in \u001b[36m__getattr__\u001b[39m\u001b[34m(name)\u001b[39m\n\u001b[32m    738\u001b[39m \u001b[38;5;28;01mdef\u001b[39;00m\u001b[38;5;250m \u001b[39m\u001b[34m__getattr__\u001b[39m(name: \u001b[38;5;28mstr\u001b[39m) -> Any:\n\u001b[32m    739\u001b[39m     \u001b[38;5;28;01mif\u001b[39;00m name \u001b[38;5;129;01min\u001b[39;00m _module_lookup:\n\u001b[32m--> \u001b[39m\u001b[32m740\u001b[39m         module = \u001b[43mimportlib\u001b[49m\u001b[43m.\u001b[49m\u001b[43mimport_module\u001b[49m\u001b[43m(\u001b[49m\u001b[43m_module_lookup\u001b[49m\u001b[43m[\u001b[49m\u001b[43mname\u001b[49m\u001b[43m]\u001b[49m\u001b[43m)\u001b[49m\n\u001b[32m    741\u001b[39m         \u001b[38;5;28;01mreturn\u001b[39;00m \u001b[38;5;28mgetattr\u001b[39m(module, name)\n\u001b[32m    742\u001b[39m     \u001b[38;5;28;01mraise\u001b[39;00m \u001b[38;5;167;01mAttributeError\u001b[39;00m(\u001b[33mf\u001b[39m\u001b[33m\"\u001b[39m\u001b[33mmodule \u001b[39m\u001b[38;5;132;01m{\u001b[39;00m\u001b[34m__name__\u001b[39m\u001b[38;5;132;01m}\u001b[39;00m\u001b[33m has no attribute \u001b[39m\u001b[38;5;132;01m{\u001b[39;00mname\u001b[38;5;132;01m}\u001b[39;00m\u001b[33m\"\u001b[39m)\n",
      "\u001b[36mFile \u001b[39m\u001b[32m~\\anaconda3\\Lib\\importlib\\__init__.py:90\u001b[39m, in \u001b[36mimport_module\u001b[39m\u001b[34m(name, package)\u001b[39m\n\u001b[32m     88\u001b[39m             \u001b[38;5;28;01mbreak\u001b[39;00m\n\u001b[32m     89\u001b[39m         level += \u001b[32m1\u001b[39m\n\u001b[32m---> \u001b[39m\u001b[32m90\u001b[39m \u001b[38;5;28;01mreturn\u001b[39;00m \u001b[43m_bootstrap\u001b[49m\u001b[43m.\u001b[49m\u001b[43m_gcd_import\u001b[49m\u001b[43m(\u001b[49m\u001b[43mname\u001b[49m\u001b[43m[\u001b[49m\u001b[43mlevel\u001b[49m\u001b[43m:\u001b[49m\u001b[43m]\u001b[49m\u001b[43m,\u001b[49m\u001b[43m \u001b[49m\u001b[43mpackage\u001b[49m\u001b[43m,\u001b[49m\u001b[43m \u001b[49m\u001b[43mlevel\u001b[49m\u001b[43m)\u001b[49m\n",
      "\u001b[36mFile \u001b[39m\u001b[32md:\\End_to_End_agentic_AI\\venv\\Lib\\site-packages\\langchain_community\\document_loaders\\text.py:5\u001b[39m\n\u001b[32m      2\u001b[39m \u001b[38;5;28;01mfrom\u001b[39;00m\u001b[38;5;250m \u001b[39m\u001b[34;01mpathlib\u001b[39;00m\u001b[38;5;250m \u001b[39m\u001b[38;5;28;01mimport\u001b[39;00m Path\n\u001b[32m      3\u001b[39m \u001b[38;5;28;01mfrom\u001b[39;00m\u001b[38;5;250m \u001b[39m\u001b[34;01mtyping\u001b[39;00m\u001b[38;5;250m \u001b[39m\u001b[38;5;28;01mimport\u001b[39;00m Iterator, Optional, Union\n\u001b[32m----> \u001b[39m\u001b[32m5\u001b[39m \u001b[38;5;28;01mfrom\u001b[39;00m\u001b[38;5;250m \u001b[39m\u001b[34;01mlangchain_core\u001b[39;00m\u001b[34;01m.\u001b[39;00m\u001b[34;01mdocuments\u001b[39;00m\u001b[38;5;250m \u001b[39m\u001b[38;5;28;01mimport\u001b[39;00m Document\n\u001b[32m      7\u001b[39m \u001b[38;5;28;01mfrom\u001b[39;00m\u001b[38;5;250m \u001b[39m\u001b[34;01mlangchain_community\u001b[39;00m\u001b[34;01m.\u001b[39;00m\u001b[34;01mdocument_loaders\u001b[39;00m\u001b[34;01m.\u001b[39;00m\u001b[34;01mbase\u001b[39;00m\u001b[38;5;250m \u001b[39m\u001b[38;5;28;01mimport\u001b[39;00m BaseLoader\n\u001b[32m      8\u001b[39m \u001b[38;5;28;01mfrom\u001b[39;00m\u001b[38;5;250m \u001b[39m\u001b[34;01mlangchain_community\u001b[39;00m\u001b[34;01m.\u001b[39;00m\u001b[34;01mdocument_loaders\u001b[39;00m\u001b[34;01m.\u001b[39;00m\u001b[34;01mhelpers\u001b[39;00m\u001b[38;5;250m \u001b[39m\u001b[38;5;28;01mimport\u001b[39;00m detect_file_encodings\n",
      "\u001b[36mFile \u001b[39m\u001b[32md:\\End_to_End_agentic_AI\\venv\\Lib\\site-packages\\langchain_core\\__init__.py:11\u001b[39m\n\u001b[32m      1\u001b[39m \u001b[33;03m\"\"\"``langchain-core`` defines the base abstractions for the LangChain ecosystem.\u001b[39;00m\n\u001b[32m      2\u001b[39m \n\u001b[32m      3\u001b[39m \u001b[33;03mThe interfaces for core components like chat models, LLMs, vector stores, retrievers,\u001b[39;00m\n\u001b[32m   (...)\u001b[39m\u001b[32m      8\u001b[39m \u001b[33;03mvery lightweight.\u001b[39;00m\n\u001b[32m      9\u001b[39m \u001b[33;03m\"\"\"\u001b[39;00m\n\u001b[32m---> \u001b[39m\u001b[32m11\u001b[39m \u001b[38;5;28;01mfrom\u001b[39;00m\u001b[38;5;250m \u001b[39m\u001b[34;01mlangchain_core\u001b[39;00m\u001b[34;01m.\u001b[39;00m\u001b[34;01m_api\u001b[39;00m\u001b[38;5;250m \u001b[39m\u001b[38;5;28;01mimport\u001b[39;00m (\n\u001b[32m     12\u001b[39m     surface_langchain_beta_warnings,\n\u001b[32m     13\u001b[39m     surface_langchain_deprecation_warnings,\n\u001b[32m     14\u001b[39m )\n\u001b[32m     15\u001b[39m \u001b[38;5;28;01mfrom\u001b[39;00m\u001b[38;5;250m \u001b[39m\u001b[34;01mlangchain_core\u001b[39;00m\u001b[34;01m.\u001b[39;00m\u001b[34;01mversion\u001b[39;00m\u001b[38;5;250m \u001b[39m\u001b[38;5;28;01mimport\u001b[39;00m VERSION\n\u001b[32m     17\u001b[39m __version__ = VERSION\n",
      "\u001b[36mFile \u001b[39m\u001b[32md:\\End_to_End_agentic_AI\\venv\\Lib\\site-packages\\langchain_core\\_api\\__init__.py:63\u001b[39m, in \u001b[36m__getattr__\u001b[39m\u001b[34m(attr_name)\u001b[39m\n\u001b[32m     61\u001b[39m \u001b[38;5;28;01mdef\u001b[39;00m\u001b[38;5;250m \u001b[39m\u001b[34m__getattr__\u001b[39m(attr_name: \u001b[38;5;28mstr\u001b[39m) -> \u001b[38;5;28mobject\u001b[39m:\n\u001b[32m     62\u001b[39m     module_name = _dynamic_imports.get(attr_name)\n\u001b[32m---> \u001b[39m\u001b[32m63\u001b[39m     result = \u001b[43mimport_attr\u001b[49m\u001b[43m(\u001b[49m\u001b[43mattr_name\u001b[49m\u001b[43m,\u001b[49m\u001b[43m \u001b[49m\u001b[43mmodule_name\u001b[49m\u001b[43m,\u001b[49m\u001b[43m \u001b[49m\u001b[43m__spec__\u001b[49m\u001b[43m.\u001b[49m\u001b[43mparent\u001b[49m\u001b[43m)\u001b[49m\n\u001b[32m     64\u001b[39m     \u001b[38;5;28mglobals\u001b[39m()[attr_name] = result\n\u001b[32m     65\u001b[39m     \u001b[38;5;28;01mreturn\u001b[39;00m result\n",
      "\u001b[36mFile \u001b[39m\u001b[32md:\\End_to_End_agentic_AI\\venv\\Lib\\site-packages\\langchain_core\\_import_utils.py:32\u001b[39m, in \u001b[36mimport_attr\u001b[39m\u001b[34m(attr_name, module_name, package)\u001b[39m\n\u001b[32m     30\u001b[39m     \u001b[38;5;28;01mexcept\u001b[39;00m \u001b[38;5;167;01mModuleNotFoundError\u001b[39;00m:\n\u001b[32m     31\u001b[39m         msg = \u001b[33mf\u001b[39m\u001b[33m\"\u001b[39m\u001b[33mmodule \u001b[39m\u001b[33m'\u001b[39m\u001b[38;5;132;01m{\u001b[39;00mpackage\u001b[38;5;132;01m!r}\u001b[39;00m\u001b[33m.\u001b[39m\u001b[38;5;132;01m{\u001b[39;00mmodule_name\u001b[38;5;132;01m!r}\u001b[39;00m\u001b[33m'\u001b[39m\u001b[33m not found\u001b[39m\u001b[33m\"\u001b[39m\n\u001b[32m---> \u001b[39m\u001b[32m32\u001b[39m         \u001b[38;5;28;01mraise\u001b[39;00m \u001b[38;5;167;01mImportError\u001b[39;00m(msg) \u001b[38;5;28;01mfrom\u001b[39;00m\u001b[38;5;250m \u001b[39m\u001b[38;5;28;01mNone\u001b[39;00m\n\u001b[32m     33\u001b[39m     result = \u001b[38;5;28mgetattr\u001b[39m(module, attr_name)\n\u001b[32m     34\u001b[39m \u001b[38;5;28;01mreturn\u001b[39;00m result\n",
      "\u001b[31mImportError\u001b[39m: module ''langchain_core._api'.'deprecation'' not found"
     ]
    }
   ],
   "source": [
    "from langchain_community.document_loaders import TextLoader\n",
    "\n",
    "loader=TextLoader(\"speech.txt\")\n",
    "docums=loader.load()\n",
    "docums"
   ]
  },
  {
   "cell_type": "code",
   "execution_count": null,
   "id": "8ca8176f",
   "metadata": {},
   "outputs": [],
   "source": []
  }
 ],
 "metadata": {
  "kernelspec": {
   "display_name": "venv",
   "language": "python",
   "name": "python3"
  },
  "language_info": {
   "codemirror_mode": {
    "name": "ipython",
    "version": 3
   },
   "file_extension": ".py",
   "mimetype": "text/x-python",
   "name": "python",
   "nbconvert_exporter": "python",
   "pygments_lexer": "ipython3",
   "version": "3.12.7"
  }
 },
 "nbformat": 4,
 "nbformat_minor": 5
}
